{
  "nbformat": 4,
  "nbformat_minor": 0,
  "metadata": {
    "colab": {
      "provenance": [],
      "authorship_tag": "ABX9TyP8re1ZJryOh1tP91nMPBEC",
      "include_colab_link": true
    },
    "kernelspec": {
      "name": "python3",
      "display_name": "Python 3"
    },
    "language_info": {
      "name": "python"
    }
  },
  "cells": [
    {
      "cell_type": "markdown",
      "metadata": {
        "id": "view-in-github",
        "colab_type": "text"
      },
      "source": [
        "<a href=\"https://colab.research.google.com/github/WasanAlbishri/KaustStage2/blob/main/Linear_Regresssion.ipynb\" target=\"_parent\"><img src=\"https://colab.research.google.com/assets/colab-badge.svg\" alt=\"Open In Colab\"/></a>"
      ]
    },
    {
      "cell_type": "markdown",
      "source": [
        "### Linear Regresssion Model"
      ],
      "metadata": {
        "id": "h4aQqne5LWvF"
      }
    },
    {
      "cell_type": "code",
      "execution_count": null,
      "metadata": {
        "id": "ocJSHPx-LWPN"
      },
      "outputs": [],
      "source": [
        "import math\n",
        "import numpy as np\n",
        "import pandas as pd\n",
        "import matplotlib.pyplot as plt\n",
        "import kagglehub\n",
        "from sklearn.linear_model import LinearRegression\n",
        "from sklearn.model_selection import train_test_split\n",
        "from sklearn.metrics import mean_squared_error, r2_score"
      ]
    },
    {
      "cell_type": "markdown",
      "source": [
        "### Load dataset"
      ],
      "metadata": {
        "id": "MnWYHRTKH1rH"
      }
    },
    {
      "cell_type": "code",
      "source": [
        "path = kagglehub.dataset_download(\"aariyan101/usa-housingcsv\")\n",
        "print(\"Path to dataset files:\", path)\n",
        "\n",
        "csv_path = os.path.join(path, \"USA_Housing.csv\")\n",
        "data = pd.read_csv(csv_path)\n",
        "\n",
        "\n",
        "#data = pd.read_csv('your_data.csv')"
      ],
      "metadata": {
        "id": "5qRoU2LrH7Yp"
      },
      "execution_count": null,
      "outputs": []
    },
    {
      "cell_type": "code",
      "source": [
        "# .head()\n",
        "# .info()\n",
        "# .describe()\n",
        "# .isnull().sum()"
      ],
      "metadata": {
        "id": "SplVxT2QI11Z"
      },
      "execution_count": null,
      "outputs": []
    },
    {
      "cell_type": "markdown",
      "source": [
        "### Data Preprocessing\n",
        "Handling Missing Data:"
      ],
      "metadata": {
        "id": "4I5E2sqcJOFk"
      }
    },
    {
      "cell_type": "code",
      "source": [
        "# Fill missing values with the mean for numerical columns\n",
        "data.fillna(data.mean(), inplace=True)\n",
        "\n",
        "# Or drop rows with missing target values\n",
        "data.dropna(subset=['target'], inplace=True)\n",
        "\n",
        "\n",
        "#missing_values = USAhousing.isnull().sum()\n",
        "#print(\"Missing values in each column:\")\n",
        "#print(missing_values)"
      ],
      "metadata": {
        "id": "irWer2oYJTLX"
      },
      "execution_count": null,
      "outputs": []
    },
    {
      "cell_type": "markdown",
      "source": [
        "# Splitting Data:"
      ],
      "metadata": {
        "id": "YxzBEVxzL7OW"
      }
    },
    {
      "cell_type": "code",
      "source": [
        "from sklearn.model_selection import train_test_split\n",
        "\n",
        "# Split data into features and target\n",
        "X = data.drop('target', axis=1)  # Features\n",
        "y = data['target']  # Target variable\n",
        "\n",
        "# Split into training and test sets (80% training, 20% test)\n",
        "X_train, X_test, y_train, y_test = train_test_split(X, y, test_size=0.2, random_state=42)"
      ],
      "metadata": {
        "id": "IRxzUVyIL5l_"
      },
      "execution_count": null,
      "outputs": []
    },
    {
      "cell_type": "markdown",
      "source": [
        "Building the Linear Regression Model"
      ],
      "metadata": {
        "id": "J7ieWnBhMGqn"
      }
    },
    {
      "cell_type": "code",
      "source": [
        "from sklearn.linear_model import LinearRegression\n",
        "\n",
        "# Create a linear regression model\n",
        "model = LinearRegression()\n",
        "\n",
        "# Fit the model to the training data\n",
        "model.fit(X_train, y_train)"
      ],
      "metadata": {
        "id": "5_7GMOB8KZX2"
      },
      "execution_count": null,
      "outputs": []
    },
    {
      "cell_type": "markdown",
      "source": [
        "Make Predictions:"
      ],
      "metadata": {
        "id": "a25w6hahMPnk"
      }
    },
    {
      "cell_type": "code",
      "source": [
        "# Make predictions\n",
        "y_pred = model.predict(X_test)"
      ],
      "metadata": {
        "id": "FzBw48sGMOTd"
      },
      "execution_count": null,
      "outputs": []
    },
    {
      "cell_type": "markdown",
      "source": [
        "# Evaluate the model"
      ],
      "metadata": {
        "id": "5I-aRP4ZJ40u"
      }
    },
    {
      "cell_type": "code",
      "source": [
        "from sklearn.metrics import r2_score\n",
        "from sklearn.metrics import mean_squared_error\n",
        "import numpy as np\n",
        "\n",
        "# R-squared value\n",
        "r2 = r2_score(y_test, y_pred)\n",
        "print(f'R-squared: {r2}')\n",
        "\n",
        "# Mean Squared Error\n",
        "mse = mean_squared_error(y_test, y_pred)\n",
        "print(f'Mean Squared Error: {mse}')\n",
        "\n",
        "# Root Mean Squared Error\n",
        "rmse = np.sqrt(mse)\n",
        "print(f'Root Mean Squared Error: {rmse}')\n",
        "\n",
        "# Coefficients of the model\n",
        "print(\"Coefficients:\", model.coef_)\n",
        "print(\"Intercept:\", model.intercept_)\n",
        "\n",
        "import matplotlib.pyplot as plt\n",
        "\n",
        "# Plot residuals\n",
        "residuals = y_test - y_pred\n",
        "plt.scatter(y_pred, residuals)\n",
        "plt.axhline(y=0, color='r', linestyle='--')\n",
        "plt.xlabel('Predicted Values')\n",
        "plt.ylabel('Residuals')\n",
        "plt.show()\n"
      ],
      "metadata": {
        "id": "qJa04ZcKJ64x"
      },
      "execution_count": null,
      "outputs": []
    },
    {
      "cell_type": "markdown",
      "source": [
        "Check Assumptions of Linear Regression:"
      ],
      "metadata": {
        "id": "CtYTtvZrM8Ge"
      }
    },
    {
      "cell_type": "code",
      "source": [
        "import scipy.stats as stats\n",
        "\n",
        "# Q-Q plot for normality check\n",
        "stats.probplot(residuals, dist=\"norm\", plot=plt)\n",
        "plt.show()"
      ],
      "metadata": {
        "id": "AU0Wgz5gM9aE"
      },
      "execution_count": null,
      "outputs": []
    },
    {
      "cell_type": "markdown",
      "source": [
        "Make Final Predictions:\n"
      ],
      "metadata": {
        "id": "08TyKNUWNK7t"
      }
    },
    {
      "cell_type": "code",
      "source": [
        "# Final predictions on new data\n",
        "new_data = pd.DataFrame([...])  # New data to predict\n",
        "scaled_new_data = scaler.transform(new_data)  # Scale if necessary\n",
        "final_predictions = model.predict(scaled_new_data)\n"
      ],
      "metadata": {
        "id": "Fcggf4J0NL58"
      },
      "execution_count": null,
      "outputs": []
    }
  ]
}