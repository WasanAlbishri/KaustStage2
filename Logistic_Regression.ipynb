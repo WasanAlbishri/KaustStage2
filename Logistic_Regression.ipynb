{
  "nbformat": 4,
  "nbformat_minor": 0,
  "metadata": {
    "colab": {
      "provenance": [],
      "authorship_tag": "ABX9TyOfj5HPBSoTvly0PFVsDL9y",
      "include_colab_link": true
    },
    "kernelspec": {
      "name": "python3",
      "display_name": "Python 3"
    },
    "language_info": {
      "name": "python"
    }
  },
  "cells": [
    {
      "cell_type": "markdown",
      "metadata": {
        "id": "view-in-github",
        "colab_type": "text"
      },
      "source": [
        "<a href=\"https://colab.research.google.com/github/WasanAlbishri/KaustStage2/blob/main/Logistic_Regression.ipynb\" target=\"_parent\"><img src=\"https://colab.research.google.com/assets/colab-badge.svg\" alt=\"Open In Colab\"/></a>"
      ]
    },
    {
      "cell_type": "code",
      "execution_count": null,
      "metadata": {
        "id": "sN-prlpHjvic"
      },
      "outputs": [],
      "source": [
        "import math\n",
        "from copy import deepcopy\n",
        "import matplotlib.pyplot as plt\n",
        "\n",
        "from tqdm import tqdm\n",
        "\n",
        "from sklearn.linear_model import LogisticRegression\n",
        "from sklearn.datasets import load_iris\n",
        "from sklearn.model_selection import train_test_split\n",
        "from sklearn.metrics import confusion_matrix, ConfusionMatrixDisplay\n",
        "\n",
        "import pandas as pd\n",
        "import numpy as np\n",
        "import seaborn as sns\n",
        "import kagglehub\n",
        "import os\n",
        "import zipfile"
      ]
    },
    {
      "cell_type": "code",
      "source": [
        "# Download latest version\n",
        "path = kagglehub.dataset_download(\"nikhil7280/weather-type-classification\")\n",
        "\n",
        "print(\"Path to dataset files:\", path)\n",
        "\n",
        "csv_path = os.path.join(path, \"weather_classification_data.csv\")\n",
        "\n",
        "df = pd.read_csv(csv_path)\n",
        "df.head()"
      ],
      "metadata": {
        "id": "vXIm_mI-mFmD"
      },
      "execution_count": null,
      "outputs": []
    },
    {
      "cell_type": "markdown",
      "source": [
        "EDA"
      ],
      "metadata": {
        "id": "wKO9aURQm60f"
      }
    },
    {
      "cell_type": "markdown",
      "source": [
        "What you need to potentially change:\n",
        "Target Column Name:\n",
        "\n",
        "The most obvious change would be to ensure that the target_column argument corresponds to the actual name of the target variable in the new dataset.\n",
        "For example, if your new dataset has a target column named \"Class\" instead of \"Weather Type\", you would call the function as check_target_imbalance(df, \"Class\").\n",
        "Ensure the column name matches exactly (case-sensitive).\n",
        "Data Type Consistency:\n",
        "\n",
        "The function assumes that the target column is categorical or binary. If the target variable in the new data is not categorical (e.g., continuous numerical values), you may need to:\n",
        "Convert it into a categorical form (e.g., by binning or thresholding continuous variables into discrete classes).\n",
        "Alternatively, check for the distribution of continuous data using histograms instead of a count plot.\n",
        "Missing Values in the Target Column:\n",
        "\n",
        "Before using this function, you should check for any missing or null values in the target column.\n",
        "You can add a line at the beginning of the function to handle missing values:\n",
        "python\n",
        "Copy code\n",
        "if df[target_column].isnull().any():\n",
        "    print(f\"Warning: Missing values detected in {target_column}. Consider handling them.\")"
      ],
      "metadata": {
        "id": "pKe-VstInJDs"
      }
    },
    {
      "cell_type": "code",
      "source": [
        "# 1. Is the target imbalanced?\n",
        "def check_target_imbalance(df, target_column):\n",
        "    print(\"Target Distribution:\")\n",
        "    print(df[target_column].value_counts(normalize=True))\n",
        "    sns.countplot(x=df[target_column])\n",
        "    plt.title(\"Target Distribution\")\n",
        "    plt.show()\n",
        "\n",
        "check_target_imbalance(df, \"Weather Type\")"
      ],
      "metadata": {
        "id": "h5p3pYyKmNcX"
      },
      "execution_count": null,
      "outputs": []
    },
    {
      "cell_type": "code",
      "source": [
        "# 1. Import Libraries\n",
        "import pandas as pd\n",
        "from sklearn.model_selection import train_test_split\n",
        "from sklearn.linear_model import LogisticRegression\n",
        "from sklearn.metrics import accuracy_score, confusion_matrix, classification_report\n",
        "\n",
        "# 2. Load Data (replace with actual dataset)\n",
        "data = pd.read_csv('data.csv')\n",
        "\n",
        "# 3. Preprocessing (handling missing values, encoding, etc.)\n",
        "# Example: fill missing values with mean\n",
        "data.fillna(data.mean(), inplace=True)\n",
        "\n",
        "# Convert categorical variables if necessary\n",
        "# data = pd.get_dummies(data, columns=['categorical_column'])\n",
        "\n",
        "# 4. Split data into training and testing sets\n",
        "X = data.drop('target', axis=1)  # Features\n",
        "y = data['target']  # Target variable\n",
        "X_train, X_test, y_train, y_test = train_test_split(X, y, test_size=0.2, random_state=42)\n",
        "\n",
        "# 5. Train Logistic Regression model\n",
        "model = LogisticRegression()\n",
        "model.fit(X_train, y_train)\n",
        "\n",
        "# 6. Make Predictions\n",
        "y_pred = model.predict(X_test)\n",
        "\n",
        "# 7. Evaluate Model\n",
        "print(\"Accuracy:\", accuracy_score(y_test, y_pred))\n",
        "print(\"Confusion Matrix:\\n\", confusion_matrix(y_test, y_pred))\n",
        "print(\"Classification Report:\\n\", classification_report(y_test, y_pred))\n",
        "\n",
        "# 8. Model Coefficients (Optional)\n",
        "print(\"Model Coefficients:\", model.coef_)\n"
      ],
      "metadata": {
        "id": "6pxSDvvAnL2F"
      },
      "execution_count": null,
      "outputs": []
    }
  ]
}